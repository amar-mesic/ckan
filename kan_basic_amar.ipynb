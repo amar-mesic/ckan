{
 "cells": [
  {
   "cell_type": "markdown",
   "metadata": {},
   "source": [
    "# The first attempt to recreate a KAN"
   ]
  },
  {
   "cell_type": "code",
   "execution_count": 62,
   "metadata": {},
   "outputs": [],
   "source": [
    "import torch.nn as nn\n",
    "import torch\n",
    "import numpy as np\n",
    "from spline import *\n",
    "from utils import *"
   ]
  },
  {
   "cell_type": "code",
   "execution_count": 79,
   "metadata": {},
   "outputs": [],
   "source": [
    "class KANLayer(nn.Module):\n",
    "\n",
    "    def __init__(self, in_dim, out_dim, num, k=3, noise_scale=0.1, scale_base=1.0, grid_range=[-1, 1], device='cpu'):\n",
    "        super(KANLayer, self).__init__()\n",
    "\n",
    "        # self.func_matrix = nn.Parameter(torch.zeros(in_dim, out_dim))\n",
    "\n",
    "        # square = lambda x: x**2\n",
    "\n",
    "        # self.func_matrix[0,0] = square\n",
    "\n",
    "        self.size = size = out_dim * in_dim\n",
    "        self.out_dim = out_dim\n",
    "        self.in_dim = in_dim\n",
    "        self.num = num\n",
    "        self.k = k\n",
    "\n",
    "        self.grid = torch.linspace(grid_range[0], grid_range[1], steps=num + 1, device=device).repeat(size, 1)\n",
    "        self.grid = torch.nn.Parameter(self.grid).requires_grad_(False)\n",
    "\n",
    "        # NO IDEA WHAT THIS DOES\n",
    "        noises = (torch.rand(size, self.grid.shape[1]) - 1 / 2) * noise_scale / num\n",
    "        noises = noises.to(device)\n",
    "\n",
    "        self.coef = torch.nn.Parameter(curve2coef(self.grid, noises, self.grid, k, device))\n",
    "\n",
    "        # NOR THIS\n",
    "        # if isinstance(scale_base, float):\n",
    "        #     self.scale_base = torch.nn.Parameter(torch.ones(size, device=device) * scale_base).requires_grad_(sb_trainable) \n",
    "\n",
    "\n",
    "        self.mask = torch.nn.Parameter(torch.ones(size, device=device)).requires_grad_(False)\n",
    "        # self.grid_eps = grid_eps\n",
    "        self.weight_sharing = torch.arange(size)\n",
    "        self.lock_counter = 0\n",
    "        self.lock_id = torch.zeros(size)\n",
    "        self.device = device\n",
    "\n",
    "\n",
    "    def forward(self, x):\n",
    "        batch = x.shape[0]\n",
    "        # x: shape (batch, in_dim) => shape (size, batch) (size = out_dim * in_dim)\n",
    "        # x = torch.einsum('ij,k->ikj', x, torch.ones(self.out_dim, device=self.device)).reshape(batch, self.size).permute(1, 0)\n",
    "\n",
    "        return x\n"
   ]
  },
  {
   "cell_type": "code",
   "execution_count": 80,
   "metadata": {},
   "outputs": [],
   "source": [
    "class KAN(nn.Module):\n",
    "    \n",
    "    def __init__(self, width=None, grid=3, seed=69):\n",
    "        super(KAN, self).__init__()\n",
    "\n",
    "        self.biases = []\n",
    "        self.act_fun = []\n",
    "        self.depth = len(width) - 1\n",
    "        self.width = width\n",
    "\n",
    "        for l in range(self.depth):\n",
    "            kan_layer = KANLayer(width[l], width[l+1], grid)\n",
    "            self.act_fun.append(kan_layer)\n",
    "\n",
    "        print(self.act_fun[0][0,0](3))\n",
    "\n",
    "        \n"
   ]
  },
  {
   "cell_type": "code",
   "execution_count": 81,
   "metadata": {},
   "outputs": [
    {
     "data": {
      "text/plain": [
       "(torch.Size([1000, 2]), torch.Size([1000, 1]))"
      ]
     },
     "execution_count": 81,
     "metadata": {},
     "output_type": "execute_result"
    }
   ],
   "source": [
    "# create dataset f(x,y) = exp(sin(pi*x)+y^2)\n",
    "f = lambda x: torch.exp(torch.sin(torch.pi*x[:,[0]]) + x[:,[1]]**2)\n",
    "dataset = create_dataset(f, n_var=2)\n",
    "dataset['train_input'].shape, dataset['train_label'].shape"
   ]
  },
  {
   "cell_type": "code",
   "execution_count": 90,
   "metadata": {},
   "outputs": [],
   "source": [
    "class MyKANLayer(nn.Module):\n",
    "\n",
    "    def __init__(self, in_dim, out_dim, num, k=3, noise_scale=0.1, scale_base=1.0, grid_range=[-1, 1], device='cpu'):\n",
    "        super(MyKANLayer, self).__init__()\n",
    "\n",
    "        self.in_dim = in_dim\n",
    "        self.out_dim = out_dim\n",
    "\n",
    "        # self.func_matrix = nn.Parameter(torch.ones(in_dim, out_dim))\n",
    "\n",
    "        def square(x):\n",
    "            return 2**x\n",
    "        \n",
    "        self.act_func = square\n",
    "\n",
    "\n",
    "    def forward(self, x):\n",
    "\n",
    "        y = torch.zeros(self.out_dim)\n",
    "\n",
    "        for i in range(self.in_dim):\n",
    "            for j in range(self.out_dim):\n",
    "                y[j] += self.act_func(x[i])\n",
    "\n",
    "\n",
    "        return y\n"
   ]
  },
  {
   "cell_type": "code",
   "execution_count": 91,
   "metadata": {},
   "outputs": [
    {
     "data": {
      "text/plain": [
       "torch.Size([5])"
      ]
     },
     "execution_count": 91,
     "metadata": {},
     "output_type": "execute_result"
    }
   ],
   "source": [
    "# kan = KAN([2, 5, 2])\n",
    "\n",
    "layer = MyKANLayer(2, 5, 3)\n",
    "\n",
    "out = layer.forward(dataset['train_input'][0])\n",
    "out.shape"
   ]
  },
  {
   "cell_type": "code",
   "execution_count": null,
   "metadata": {},
   "outputs": [],
   "source": []
  }
 ],
 "metadata": {
  "kernelspec": {
   "display_name": "cv",
   "language": "python",
   "name": "python3"
  },
  "language_info": {
   "codemirror_mode": {
    "name": "ipython",
    "version": 3
   },
   "file_extension": ".py",
   "mimetype": "text/x-python",
   "name": "python",
   "nbconvert_exporter": "python",
   "pygments_lexer": "ipython3",
   "version": "3.11.9"
  }
 },
 "nbformat": 4,
 "nbformat_minor": 2
}
