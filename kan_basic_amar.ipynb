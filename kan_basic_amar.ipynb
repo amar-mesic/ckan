{
 "cells": [
  {
   "cell_type": "markdown",
   "metadata": {},
   "source": [
    "# The first attempt to recreate a KAN"
   ]
  },
  {
   "cell_type": "code",
   "execution_count": 49,
   "metadata": {},
   "outputs": [],
   "source": [
    "import torch.nn as nn\n",
    "import torch\n",
    "import numpy as np\n",
    "from spline import *\n",
    "from utils import *\n",
    "from scipy.interpolate import BSpline"
   ]
  },
  {
   "cell_type": "code",
   "execution_count": 50,
   "metadata": {},
   "outputs": [],
   "source": [
    "# KAN Layer implementation based off of PyKAN\n",
    "class KANLayer(nn.Module):\n",
    "\n",
    "    def __init__(self, in_dim, out_dim, num, k=3, noise_scale=0.1, scale_base=1.0, grid_range=[-1, 1], device='cpu'):\n",
    "        super(KANLayer, self).__init__()\n",
    "\n",
    "        # self.func_matrix = nn.Parameter(torch.zeros(in_dim, out_dim))\n",
    "\n",
    "        # square = lambda x: x**2\n",
    "\n",
    "        # self.func_matrix[0,0] = square\n",
    "\n",
    "        self.size = size = out_dim * in_dim\n",
    "        self.out_dim = out_dim\n",
    "        self.in_dim = in_dim\n",
    "        self.num = num\n",
    "        self.k = k\n",
    "\n",
    "        self.grid = torch.linspace(grid_range[0], grid_range[1], steps=num + 1, device=device).repeat(size, 1)\n",
    "        self.grid = torch.nn.Parameter(self.grid).requires_grad_(False)\n",
    "\n",
    "        # NO IDEA WHAT THIS DOES\n",
    "        noises = (torch.rand(size, self.grid.shape[1]) - 1 / 2) * noise_scale / num\n",
    "        noises = noises.to(device)\n",
    "\n",
    "        self.coef = torch.nn.Parameter(curve2coef(self.grid, noises, self.grid, k, device))\n",
    "\n",
    "        # NOR THIS\n",
    "        # if isinstance(scale_base, float):\n",
    "        #     self.scale_base = torch.nn.Parameter(torch.ones(size, device=device) * scale_base).requires_grad_(sb_trainable) \n",
    "\n",
    "\n",
    "        self.mask = torch.nn.Parameter(torch.ones(size, device=device)).requires_grad_(False)\n",
    "        # self.grid_eps = grid_eps\n",
    "        self.weight_sharing = torch.arange(size)\n",
    "        self.lock_counter = 0\n",
    "        self.lock_id = torch.zeros(size)\n",
    "        self.device = device\n",
    "\n",
    "\n",
    "    def forward(self, x):\n",
    "        batch = x.shape[0]\n",
    "        # x: shape (batch, in_dim) => shape (size, batch) (size = out_dim * in_dim)\n",
    "        # x = torch.einsum('ij,k->ikj', x, torch.ones(self.out_dim, device=self.device)).reshape(batch, self.size).permute(1, 0)\n",
    "\n",
    "        return x\n"
   ]
  },
  {
   "cell_type": "markdown",
   "metadata": {},
   "source": [
    "# Only work from here"
   ]
  },
  {
   "cell_type": "code",
   "execution_count": 51,
   "metadata": {},
   "outputs": [
    {
     "data": {
      "text/plain": [
       "(torch.Size([1000, 2]), torch.Size([1000, 1]))"
      ]
     },
     "execution_count": 51,
     "metadata": {},
     "output_type": "execute_result"
    }
   ],
   "source": [
    "# create dataset f(x,y) = exp(sin(pi*x)+y^2)\n",
    "f = lambda x: torch.exp(torch.sin(torch.pi*x[:,[0]]) + x[:,[1]]**2)\n",
    "dataset = create_dataset(f, n_var=2)\n",
    "dataset['train_input'].shape, dataset['train_label'].shape"
   ]
  },
  {
   "cell_type": "code",
   "execution_count": 109,
   "metadata": {},
   "outputs": [],
   "source": [
    "# creating a KAN layer from scratch\n",
    "class MyKANLayer(nn.Module):\n",
    "\n",
    "    def __init__(self, in_dim, out_dim, grid, degree=3, noise_scale=0.1, scale_base=1.0, grid_range=[-1, 1], device='cpu'):\n",
    "        super(MyKANLayer, self).__init__()\n",
    "\n",
    "        # initiliaze variables about the layer\n",
    "        self.size = size = out_dim * in_dim\n",
    "        self.in_dim = in_dim\n",
    "        self.out_dim = out_dim\n",
    "        self.degree = degree\n",
    "\n",
    "        # The spline function requires three parameters: knots, coeff, and degree\n",
    "        # knots: the grid points for the spline\n",
    "        self.knots = nn.Parameter(torch.linspace(grid_range[0], grid_range[1], steps=grid + 1, device=device).repeat(size, 1)).requires_grad_(False)\n",
    "\n",
    "        # coeff: the coefficients for the spline - THESE ARE LEARNABLE\n",
    "        # I am wrapping them in a parameter since that is what they are\n",
    "        self.coeff = nn.Parameter(torch.rand(size, grid + 1, device=device)).requires_grad_(True)\n",
    "\n",
    "\n",
    "    def forward(self, x):\n",
    "\n",
    "        # we process data in batches!\n",
    "        print('batch size: ', x.shape[0])\n",
    "        batch_size = x.shape[0]\n",
    "\n",
    "        # we need to repeat the input for each spline function\n",
    "        # x.shape = (size, batch_size)\n",
    "        x = x.transpose(0, 1).repeat(self.out_dim, 1)\n",
    "\n",
    "        # store the input for later\n",
    "        self.cache = x\n",
    "\n",
    "        # store the output of the spline functions\n",
    "        out = torch.zeros(self.size, batch_size)\n",
    "\n",
    "        # loop through all the spline functions, and apply them to a single element for the whole batch\n",
    "        # TODO: see if we can vectorize this\n",
    "        for i in range(self.size):\n",
    "            # x[i].shape = batch_size\n",
    "            # TODO: see if we can get rid of this detach numpy thingy\n",
    "            out[i] = torch.tensor(BSpline(self.knots[i], self.coeff[i].detach().numpy(), self.degree)(x[i]))\n",
    "\n",
    "        # reshape the output to be of shape (out_dim, in_dim, batch_size)\n",
    "        # then we sum it as part of the algorithm\n",
    "        # then we transpose it so subsequent layers can use it\n",
    "        y = out.reshape(self.out_dim, self.in_dim, batch_size).sum(dim=1).transpose(0, 1)\n",
    "\n",
    "        return y\n"
   ]
  },
  {
   "cell_type": "code",
   "execution_count": 110,
   "metadata": {},
   "outputs": [
    {
     "name": "stdout",
     "output_type": "stream",
     "text": [
      "batch size:  2\n"
     ]
    },
    {
     "data": {
      "text/plain": [
       "tensor([[0.8266, 0.7423, 0.5339, 1.1364, 0.2176],\n",
       "        [1.0453, 1.4096, 0.4858, 0.6775, 0.7896]])"
      ]
     },
     "execution_count": 110,
     "metadata": {},
     "output_type": "execute_result"
    }
   ],
   "source": [
    "# Testing the layer\n",
    "layer = MyKANLayer(in_dim=2, out_dim=5, grid=9, degree=3)\n",
    "\n",
    "out = layer(dataset['train_input'][:2])\n",
    "out"
   ]
  },
  {
   "cell_type": "code",
   "execution_count": 111,
   "metadata": {},
   "outputs": [],
   "source": [
    "class MyKAN(nn.Module):\n",
    "    \n",
    "    def __init__(self, width=None, grid=3, degree=3, seed=69, device='cpu'):\n",
    "        super(MyKAN, self).__init__()\n",
    "\n",
    "        # intialize variables for the KAN\n",
    "        self.biases = []\n",
    "        self.act_fun = []\n",
    "        self.depth = len(width) - 1\n",
    "        self.width = width\n",
    "\n",
    "        # create the layers here\n",
    "        for l in range(self.depth):\n",
    "            kan_layer = MyKANLayer(width[l], width[l+1], grid, degree, device=device)\n",
    "            self.act_fun.append(kan_layer)\n",
    "\n",
    "    # x should only be passed in batches\n",
    "    def forward(self, x):\n",
    "        for l in range(self.depth):\n",
    "            x = self.act_fun[l](x)\n",
    "            \n",
    "        return x"
   ]
  },
  {
   "cell_type": "code",
   "execution_count": 115,
   "metadata": {},
   "outputs": [
    {
     "name": "stdout",
     "output_type": "stream",
     "text": [
      "batch size:  10\n",
      "batch size:  10\n"
     ]
    },
    {
     "data": {
      "text/plain": [
       "tensor([[   33.2443],\n",
       "        [   17.4406],\n",
       "        [ 7232.3174],\n",
       "        [ 1155.7405],\n",
       "        [   33.1464],\n",
       "        [   37.5522],\n",
       "        [  -46.5262],\n",
       "        [-1184.3843],\n",
       "        [   20.1112],\n",
       "        [16459.5215]])"
      ]
     },
     "execution_count": 115,
     "metadata": {},
     "output_type": "execute_result"
    }
   ],
   "source": [
    "# test the KAN here\n",
    "kan = MyKAN(width=[2, 5, 1], grid=10, degree=3)\n",
    "\n",
    "out = kan(dataset['train_input'][:10])\n",
    "out"
   ]
  },
  {
   "cell_type": "code",
   "execution_count": null,
   "metadata": {},
   "outputs": [],
   "source": []
  }
 ],
 "metadata": {
  "kernelspec": {
   "display_name": "cv",
   "language": "python",
   "name": "python3"
  },
  "language_info": {
   "codemirror_mode": {
    "name": "ipython",
    "version": 3
   },
   "file_extension": ".py",
   "mimetype": "text/x-python",
   "name": "python",
   "nbconvert_exporter": "python",
   "pygments_lexer": "ipython3",
   "version": "3.11.9"
  }
 },
 "nbformat": 4,
 "nbformat_minor": 2
}
