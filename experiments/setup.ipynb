{
 "cells": [
  {
   "cell_type": "code",
   "execution_count": 21,
   "metadata": {},
   "outputs": [],
   "source": [
    "import sys\n",
    "sys.path.append(\"..\")\n",
    "\n",
    "import time\n",
    "from enum import Enum\n",
    "import torch\n",
    "from utils import compute_min_max\n",
    "import matplotlib.pyplot as plt\n",
    "from sklearn.metrics import accuracy_score, precision_score, recall_score, f1_score\n",
    "\n",
    "# Import dataset loaders\n",
    "from dataset_loaders.MNIST import get_MNIST\n",
    "from dataset_loaders.FASHION_MNIST import get_FASHION_MNIST\n",
    "from dataset_loaders.CIFAR import get_CIFAR\n",
    "from dataset_loaders.TINY_IMAGENET import get_TINY_IMAGENET\n",
    "\n",
    "# Import architectures\n",
    "from architectures.CKAN_KAN import *\n",
    "from architectures.CKAN_LIN import *\n",
    "from architectures.CNN_KAN import *\n",
    "from architectures.CNN_LIN import *"
   ]
  },
  {
   "cell_type": "markdown",
   "metadata": {},
   "source": [
    "# Use this file to conduct our experiments\n",
    "\n",
    "### First check if we can run on GPU:"
   ]
  },
  {
   "cell_type": "code",
   "execution_count": 2,
   "metadata": {},
   "outputs": [
    {
     "name": "stdout",
     "output_type": "stream",
     "text": [
      "cuda:0\n"
     ]
    }
   ],
   "source": [
    "device = torch.device('cuda:0') if torch.cuda.is_available() else torch.device('cpu')\n",
    "print(device)"
   ]
  },
  {
   "cell_type": "markdown",
   "metadata": {},
   "source": [
    "### Select the dataset:"
   ]
  },
  {
   "cell_type": "code",
   "execution_count": 3,
   "metadata": {},
   "outputs": [],
   "source": [
    "class Dataset(Enum):\n",
    "    MNIST = 1\n",
    "    FASH_MNIST = 2\n",
    "    CIFAR = 3\n",
    "    TINY_IMAGENET = 4\n",
    "\n",
    "    def get_dataset(self, fraction, batch_size):\n",
    "        if self == Dataset.MNIST:\n",
    "            return get_MNIST(fraction, batch_size)\n",
    "        elif self == Dataset.FASH_MNIST:\n",
    "            return get_FASHION_MNIST(fraction, batch_size)\n",
    "        elif self == Dataset.CIFAR:\n",
    "            return get_CIFAR(fraction, batch_size)\n",
    "        elif self == Dataset.TINY_IMAGENET:\n",
    "            return get_TINY_IMAGENET(fraction, batch_size)\n",
    "        else:\n",
    "            return \"Unknown option\""
   ]
  },
  {
   "cell_type": "code",
   "execution_count": 4,
   "metadata": {},
   "outputs": [
    {
     "name": "stdout",
     "output_type": "stream",
     "text": [
      "Downloading http://yann.lecun.com/exdb/mnist/train-images-idx3-ubyte.gz\n",
      "Failed to download (trying next):\n",
      "HTTP Error 403: Forbidden\n",
      "\n",
      "Downloading https://ossci-datasets.s3.amazonaws.com/mnist/train-images-idx3-ubyte.gz\n",
      "Downloading https://ossci-datasets.s3.amazonaws.com/mnist/train-images-idx3-ubyte.gz to ../data\\MNIST\\raw\\train-images-idx3-ubyte.gz\n"
     ]
    },
    {
     "name": "stderr",
     "output_type": "stream",
     "text": [
      "100%|██████████| 9912422/9912422 [00:01<00:00, 9395167.49it/s] \n"
     ]
    },
    {
     "name": "stdout",
     "output_type": "stream",
     "text": [
      "Extracting ../data\\MNIST\\raw\\train-images-idx3-ubyte.gz to ../data\\MNIST\\raw\n",
      "\n",
      "Downloading http://yann.lecun.com/exdb/mnist/train-labels-idx1-ubyte.gz\n",
      "Failed to download (trying next):\n",
      "HTTP Error 403: Forbidden\n",
      "\n",
      "Downloading https://ossci-datasets.s3.amazonaws.com/mnist/train-labels-idx1-ubyte.gz\n",
      "Downloading https://ossci-datasets.s3.amazonaws.com/mnist/train-labels-idx1-ubyte.gz to ../data\\MNIST\\raw\\train-labels-idx1-ubyte.gz\n"
     ]
    },
    {
     "name": "stderr",
     "output_type": "stream",
     "text": [
      "100%|██████████| 28881/28881 [00:00<00:00, 269983.58it/s]\n"
     ]
    },
    {
     "name": "stdout",
     "output_type": "stream",
     "text": [
      "Extracting ../data\\MNIST\\raw\\train-labels-idx1-ubyte.gz to ../data\\MNIST\\raw\n",
      "\n",
      "Downloading http://yann.lecun.com/exdb/mnist/t10k-images-idx3-ubyte.gz\n",
      "Failed to download (trying next):\n",
      "HTTP Error 403: Forbidden\n",
      "\n",
      "Downloading https://ossci-datasets.s3.amazonaws.com/mnist/t10k-images-idx3-ubyte.gz\n",
      "Downloading https://ossci-datasets.s3.amazonaws.com/mnist/t10k-images-idx3-ubyte.gz to ../data\\MNIST\\raw\\t10k-images-idx3-ubyte.gz\n"
     ]
    },
    {
     "name": "stderr",
     "output_type": "stream",
     "text": [
      "100%|██████████| 1648877/1648877 [00:00<00:00, 2875446.39it/s]\n"
     ]
    },
    {
     "name": "stdout",
     "output_type": "stream",
     "text": [
      "Extracting ../data\\MNIST\\raw\\t10k-images-idx3-ubyte.gz to ../data\\MNIST\\raw\n",
      "\n",
      "Downloading http://yann.lecun.com/exdb/mnist/t10k-labels-idx1-ubyte.gz\n",
      "Failed to download (trying next):\n",
      "HTTP Error 403: Forbidden\n",
      "\n",
      "Downloading https://ossci-datasets.s3.amazonaws.com/mnist/t10k-labels-idx1-ubyte.gz\n",
      "Downloading https://ossci-datasets.s3.amazonaws.com/mnist/t10k-labels-idx1-ubyte.gz to ../data\\MNIST\\raw\\t10k-labels-idx1-ubyte.gz\n"
     ]
    },
    {
     "name": "stderr",
     "output_type": "stream",
     "text": [
      "100%|██████████| 4542/4542 [00:00<00:00, 596746.30it/s]"
     ]
    },
    {
     "name": "stdout",
     "output_type": "stream",
     "text": [
      "Extracting ../data\\MNIST\\raw\\t10k-labels-idx1-ubyte.gz to ../data\\MNIST\\raw\n",
      "\n"
     ]
    },
    {
     "name": "stderr",
     "output_type": "stream",
     "text": [
      "\n"
     ]
    }
   ],
   "source": [
    "# Change enum to pick different dataset\n",
    "dataset = Dataset.MNIST\n",
    "\n",
    "# Set the required variables\n",
    "fraction = 0.001\n",
    "batch_size = 32\n",
    "\n",
    "train_val_dataset, test_dataset, train_loader, test_loader = dataset.get_dataset(fraction, batch_size)"
   ]
  },
  {
   "cell_type": "markdown",
   "metadata": {},
   "source": [
    "### Select which architecture we want to use:"
   ]
  },
  {
   "cell_type": "code",
   "execution_count": 5,
   "metadata": {},
   "outputs": [],
   "source": [
    "class Architecture(Enum):\n",
    "    CKAN_KAN = 1\n",
    "    CKAN_LIN = 2\n",
    "    CNN_KAN  = 3 \n",
    "    CNN_LIN  = 4\n",
    "\n",
    "    def get_architecture(self, in_channels, hidden_channels, out_features, min_grid, degree, device):\n",
    "        if self == Architecture.CKAN_KAN:\n",
    "            return CKANKANNet(in_channels, hidden_channels, out_features, \n",
    "                              grid=min_grid, degree=degree, device=device).to(device)\n",
    "        elif self == Architecture.CKAN_LIN:\n",
    "            return CKANLINNet(in_channels, hidden_channels, out_features, \n",
    "                              grid=min_grid, degree=degree, device=device).to(device)\n",
    "        elif self == Architecture.CNN_KAN:\n",
    "            return CNNKANNet(in_channels, hidden_channels, out_features, \n",
    "                              grid=min_grid, degree=degree, device=device).to(device)\n",
    "        elif self == Architecture.CNN_LIN:\n",
    "            return CNNLINNet(in_channels, hidden_channels, out_features, device=device).to(device)\n",
    "        else:\n",
    "            return \"Unknown option\""
   ]
  },
  {
   "cell_type": "code",
   "execution_count": 6,
   "metadata": {},
   "outputs": [],
   "source": [
    "# Change enum to pick different architecture\n",
    "architecture = Architecture.CKAN_LIN\n",
    "\n",
    "degree = 2\n",
    "\n",
    "# Architecture parameters\n",
    "in_channels = 1\n",
    "hidden_channels = [2, 3]\n",
    "out_features = 10\n",
    "\n",
    "# Training parameters\n",
    "learning_rate = 0.01\n",
    "num_epochs = 50\n",
    "\n",
    "# Grid parameters\n",
    "min_grid = 1\n",
    "max_grid, curr_grid = 13, min_grid\n",
    "grid_range = compute_min_max(train_val_dataset)\n",
    "step = 4\n",
    "grid_update_freq = int(num_epochs / ((max_grid - min_grid) / step + 1e-5))\n",
    "\n",
    "net = architecture.get_architecture(in_channels, hidden_channels, out_features, min_grid, degree, device)"
   ]
  },
  {
   "cell_type": "code",
   "execution_count": 7,
   "metadata": {},
   "outputs": [],
   "source": [
    "# Optimizer and loss function\n",
    "optimizer = torch.optim.Adam(net.parameters(), lr=learning_rate)\n",
    "criterion = nn.CrossEntropyLoss()"
   ]
  },
  {
   "cell_type": "markdown",
   "metadata": {},
   "source": [
    "### Define model metrics:\n",
    "\n",
    "We measure\n",
    "- Accuracy\n",
    "- Precision\n",
    "- Recall\n",
    "- F1-score"
   ]
  },
  {
   "cell_type": "code",
   "execution_count": 25,
   "metadata": {},
   "outputs": [],
   "source": [
    "def evaluate_model(data_loader, net, device=torch.device('cuda:0')):\n",
    "    \"\"\"\n",
    "    Evaluate a model on the given data.\n",
    "    \"\"\"\n",
    "    net.eval()\n",
    "    all_y_true = []\n",
    "    all_y_pred = []\n",
    "\n",
    "    for X, y in data_loader:\n",
    "        X, y = X.to(device), y.to(device)\n",
    "        with torch.no_grad():\n",
    "            y = y.long()\n",
    "            y_pred = torch.argmax(net(X), dim=1)\n",
    "            all_y_true.extend(y.cpu().numpy())\n",
    "            all_y_pred.extend(y_pred.cpu().numpy())\n",
    "\n",
    "    accuracy = accuracy_score(all_y_true, all_y_pred) * 100\n",
    "    precision = precision_score(all_y_true, all_y_pred, average='weighted', zero_division=1)\n",
    "    recall = recall_score(all_y_true, all_y_pred, average='weighted', zero_division=1)\n",
    "    f1 = f1_score(all_y_true, all_y_pred, average='weighted')\n",
    "\n",
    "    return accuracy, precision, recall, f1"
   ]
  },
  {
   "cell_type": "markdown",
   "metadata": {},
   "source": [
    "Store metrics:"
   ]
  },
  {
   "cell_type": "code",
   "execution_count": 29,
   "metadata": {},
   "outputs": [],
   "source": [
    "# Losses and training times\n",
    "train_losses = []\n",
    "epoch_times = []\n",
    "\n",
    "# Accuracies\n",
    "train_accs = []\n",
    "test_accs = []\n",
    "\n",
    "# Precisions\n",
    "train_precs = []\n",
    "test_precs = []\n",
    "\n",
    "# Recalls\n",
    "train_recs = []\n",
    "test_recs = []\n",
    "\n",
    "# F1-scores\n",
    "train_f1s = []\n",
    "test_f1s = []"
   ]
  },
  {
   "cell_type": "markdown",
   "metadata": {},
   "source": [
    "### Run the training loop:"
   ]
  },
  {
   "cell_type": "code",
   "execution_count": 31,
   "metadata": {},
   "outputs": [
    {
     "name": "stdout",
     "output_type": "stream",
     "text": [
      "Epoch: 1\n",
      "Accuracy of train set: 100.00%, Accuracy of test set: 80.00%\n",
      "Precision of train set: 1.00%, Precision of test set: 0.95%\n",
      "Recall of train set: 1.00%, Recall of test set: 0.80%\n",
      "F1-score of train set: 1.00%, F1-score of test set: 0.80%\n",
      "\n",
      "Epoch: 2\n",
      "Accuracy of train set: 100.00%, Accuracy of test set: 80.00%\n",
      "Precision of train set: 1.00%, Precision of test set: 0.95%\n",
      "Recall of train set: 1.00%, Recall of test set: 0.80%\n",
      "F1-score of train set: 1.00%, F1-score of test set: 0.80%\n",
      "\n",
      "Epoch: 3\n",
      "Accuracy of train set: 100.00%, Accuracy of test set: 80.00%\n",
      "Precision of train set: 1.00%, Precision of test set: 0.95%\n",
      "Recall of train set: 1.00%, Recall of test set: 0.80%\n",
      "F1-score of train set: 1.00%, F1-score of test set: 0.80%\n",
      "\n",
      "Epoch: 4\n",
      "Accuracy of train set: 100.00%, Accuracy of test set: 80.00%\n",
      "Precision of train set: 1.00%, Precision of test set: 0.95%\n",
      "Recall of train set: 1.00%, Recall of test set: 0.80%\n",
      "F1-score of train set: 1.00%, F1-score of test set: 0.80%\n",
      "\n",
      "Epoch: 5\n",
      "Accuracy of train set: 100.00%, Accuracy of test set: 80.00%\n",
      "Precision of train set: 1.00%, Precision of test set: 0.95%\n",
      "Recall of train set: 1.00%, Recall of test set: 0.80%\n",
      "F1-score of train set: 1.00%, F1-score of test set: 0.80%\n",
      "\n",
      "Epoch: 6\n",
      "Accuracy of train set: 100.00%, Accuracy of test set: 80.00%\n",
      "Precision of train set: 1.00%, Precision of test set: 0.95%\n",
      "Recall of train set: 1.00%, Recall of test set: 0.80%\n",
      "F1-score of train set: 1.00%, F1-score of test set: 0.80%\n",
      "\n",
      "Epoch: 7\n",
      "Accuracy of train set: 100.00%, Accuracy of test set: 80.00%\n",
      "Precision of train set: 1.00%, Precision of test set: 0.95%\n",
      "Recall of train set: 1.00%, Recall of test set: 0.80%\n",
      "F1-score of train set: 1.00%, F1-score of test set: 0.80%\n",
      "\n",
      "Epoch: 8\n",
      "Accuracy of train set: 100.00%, Accuracy of test set: 80.00%\n",
      "Precision of train set: 1.00%, Precision of test set: 0.95%\n",
      "Recall of train set: 1.00%, Recall of test set: 0.80%\n",
      "F1-score of train set: 1.00%, F1-score of test set: 0.80%\n",
      "\n",
      "Epoch: 9\n",
      "Accuracy of train set: 100.00%, Accuracy of test set: 80.00%\n",
      "Precision of train set: 1.00%, Precision of test set: 0.95%\n",
      "Recall of train set: 1.00%, Recall of test set: 0.80%\n",
      "F1-score of train set: 1.00%, F1-score of test set: 0.80%\n",
      "\n",
      "Epoch: 10\n",
      "Accuracy of train set: 100.00%, Accuracy of test set: 80.00%\n",
      "Precision of train set: 1.00%, Precision of test set: 0.95%\n",
      "Recall of train set: 1.00%, Recall of test set: 0.80%\n",
      "F1-score of train set: 1.00%, F1-score of test set: 0.80%\n",
      "\n",
      "Epoch: 11\n",
      "Accuracy of train set: 100.00%, Accuracy of test set: 80.00%\n",
      "Precision of train set: 1.00%, Precision of test set: 0.95%\n",
      "Recall of train set: 1.00%, Recall of test set: 0.80%\n",
      "F1-score of train set: 1.00%, F1-score of test set: 0.80%\n",
      "\n",
      "Epoch: 12\n",
      "Accuracy of train set: 100.00%, Accuracy of test set: 80.00%\n",
      "Precision of train set: 1.00%, Precision of test set: 0.95%\n",
      "Recall of train set: 1.00%, Recall of test set: 0.80%\n",
      "F1-score of train set: 1.00%, F1-score of test set: 0.80%\n",
      "\n",
      "Epoch: 13\n",
      "Accuracy of train set: 100.00%, Accuracy of test set: 80.00%\n",
      "Precision of train set: 1.00%, Precision of test set: 0.95%\n",
      "Recall of train set: 1.00%, Recall of test set: 0.80%\n",
      "F1-score of train set: 1.00%, F1-score of test set: 0.80%\n",
      "\n",
      "Epoch: 14\n",
      "Accuracy of train set: 100.00%, Accuracy of test set: 80.00%\n",
      "Precision of train set: 1.00%, Precision of test set: 0.95%\n",
      "Recall of train set: 1.00%, Recall of test set: 0.80%\n",
      "F1-score of train set: 1.00%, F1-score of test set: 0.80%\n",
      "\n",
      "Epoch: 15\n",
      "Accuracy of train set: 100.00%, Accuracy of test set: 80.00%\n",
      "Precision of train set: 1.00%, Precision of test set: 0.95%\n",
      "Recall of train set: 1.00%, Recall of test set: 0.80%\n",
      "F1-score of train set: 1.00%, F1-score of test set: 0.80%\n",
      "\n",
      "Epoch: 16\n",
      "Accuracy of train set: 100.00%, Accuracy of test set: 80.00%\n",
      "Precision of train set: 1.00%, Precision of test set: 0.95%\n",
      "Recall of train set: 1.00%, Recall of test set: 0.80%\n",
      "F1-score of train set: 1.00%, F1-score of test set: 0.80%\n",
      "\n",
      "Epoch: 17\n",
      "Accuracy of train set: 100.00%, Accuracy of test set: 80.00%\n",
      "Precision of train set: 1.00%, Precision of test set: 0.95%\n",
      "Recall of train set: 1.00%, Recall of test set: 0.80%\n",
      "F1-score of train set: 1.00%, F1-score of test set: 0.80%\n",
      "\n",
      "Epoch: 18\n",
      "Accuracy of train set: 100.00%, Accuracy of test set: 80.00%\n",
      "Precision of train set: 1.00%, Precision of test set: 0.95%\n",
      "Recall of train set: 1.00%, Recall of test set: 0.80%\n",
      "F1-score of train set: 1.00%, F1-score of test set: 0.80%\n",
      "\n",
      "Epoch: 19\n",
      "Accuracy of train set: 100.00%, Accuracy of test set: 80.00%\n",
      "Precision of train set: 1.00%, Precision of test set: 0.95%\n",
      "Recall of train set: 1.00%, Recall of test set: 0.80%\n",
      "F1-score of train set: 1.00%, F1-score of test set: 0.80%\n",
      "\n",
      "Epoch: 20\n",
      "Accuracy of train set: 100.00%, Accuracy of test set: 80.00%\n",
      "Precision of train set: 1.00%, Precision of test set: 0.95%\n",
      "Recall of train set: 1.00%, Recall of test set: 0.80%\n",
      "F1-score of train set: 1.00%, F1-score of test set: 0.80%\n",
      "\n",
      "Epoch: 21\n",
      "Accuracy of train set: 100.00%, Accuracy of test set: 80.00%\n",
      "Precision of train set: 1.00%, Precision of test set: 0.95%\n",
      "Recall of train set: 1.00%, Recall of test set: 0.80%\n",
      "F1-score of train set: 1.00%, F1-score of test set: 0.80%\n",
      "\n",
      "Epoch: 22\n",
      "Accuracy of train set: 100.00%, Accuracy of test set: 80.00%\n",
      "Precision of train set: 1.00%, Precision of test set: 0.95%\n",
      "Recall of train set: 1.00%, Recall of test set: 0.80%\n",
      "F1-score of train set: 1.00%, F1-score of test set: 0.80%\n",
      "\n",
      "Epoch: 23\n",
      "Accuracy of train set: 100.00%, Accuracy of test set: 80.00%\n",
      "Precision of train set: 1.00%, Precision of test set: 0.95%\n",
      "Recall of train set: 1.00%, Recall of test set: 0.80%\n",
      "F1-score of train set: 1.00%, F1-score of test set: 0.80%\n",
      "\n",
      "Epoch: 24\n",
      "Accuracy of train set: 100.00%, Accuracy of test set: 80.00%\n",
      "Precision of train set: 1.00%, Precision of test set: 0.95%\n",
      "Recall of train set: 1.00%, Recall of test set: 0.80%\n",
      "F1-score of train set: 1.00%, F1-score of test set: 0.80%\n",
      "\n",
      "Epoch: 25\n",
      "Accuracy of train set: 100.00%, Accuracy of test set: 80.00%\n",
      "Precision of train set: 1.00%, Precision of test set: 0.95%\n",
      "Recall of train set: 1.00%, Recall of test set: 0.80%\n",
      "F1-score of train set: 1.00%, F1-score of test set: 0.80%\n",
      "\n",
      "Epoch: 26\n",
      "Accuracy of train set: 100.00%, Accuracy of test set: 80.00%\n",
      "Precision of train set: 1.00%, Precision of test set: 0.95%\n",
      "Recall of train set: 1.00%, Recall of test set: 0.80%\n",
      "F1-score of train set: 1.00%, F1-score of test set: 0.80%\n",
      "\n",
      "Epoch: 27\n",
      "Accuracy of train set: 100.00%, Accuracy of test set: 80.00%\n",
      "Precision of train set: 1.00%, Precision of test set: 0.95%\n",
      "Recall of train set: 1.00%, Recall of test set: 0.80%\n",
      "F1-score of train set: 1.00%, F1-score of test set: 0.80%\n",
      "\n",
      "Epoch: 28\n",
      "Accuracy of train set: 100.00%, Accuracy of test set: 80.00%\n",
      "Precision of train set: 1.00%, Precision of test set: 0.95%\n",
      "Recall of train set: 1.00%, Recall of test set: 0.80%\n",
      "F1-score of train set: 1.00%, F1-score of test set: 0.80%\n",
      "\n",
      "Epoch: 29\n",
      "Accuracy of train set: 100.00%, Accuracy of test set: 80.00%\n",
      "Precision of train set: 1.00%, Precision of test set: 0.95%\n",
      "Recall of train set: 1.00%, Recall of test set: 0.80%\n",
      "F1-score of train set: 1.00%, F1-score of test set: 0.80%\n",
      "\n",
      "Epoch: 30\n",
      "Accuracy of train set: 100.00%, Accuracy of test set: 80.00%\n",
      "Precision of train set: 1.00%, Precision of test set: 0.95%\n",
      "Recall of train set: 1.00%, Recall of test set: 0.80%\n",
      "F1-score of train set: 1.00%, F1-score of test set: 0.80%\n",
      "\n",
      "Epoch: 31\n",
      "Accuracy of train set: 100.00%, Accuracy of test set: 80.00%\n",
      "Precision of train set: 1.00%, Precision of test set: 0.95%\n",
      "Recall of train set: 1.00%, Recall of test set: 0.80%\n",
      "F1-score of train set: 1.00%, F1-score of test set: 0.80%\n",
      "\n",
      "Epoch: 32\n",
      "Accuracy of train set: 100.00%, Accuracy of test set: 80.00%\n",
      "Precision of train set: 1.00%, Precision of test set: 0.95%\n",
      "Recall of train set: 1.00%, Recall of test set: 0.80%\n",
      "F1-score of train set: 1.00%, F1-score of test set: 0.80%\n",
      "\n",
      "Epoch: 33\n",
      "Accuracy of train set: 100.00%, Accuracy of test set: 80.00%\n",
      "Precision of train set: 1.00%, Precision of test set: 0.95%\n",
      "Recall of train set: 1.00%, Recall of test set: 0.80%\n",
      "F1-score of train set: 1.00%, F1-score of test set: 0.80%\n",
      "\n",
      "Epoch: 34\n",
      "Accuracy of train set: 100.00%, Accuracy of test set: 80.00%\n",
      "Precision of train set: 1.00%, Precision of test set: 0.95%\n",
      "Recall of train set: 1.00%, Recall of test set: 0.80%\n",
      "F1-score of train set: 1.00%, F1-score of test set: 0.80%\n",
      "\n",
      "Epoch: 35\n",
      "Accuracy of train set: 100.00%, Accuracy of test set: 80.00%\n",
      "Precision of train set: 1.00%, Precision of test set: 0.95%\n",
      "Recall of train set: 1.00%, Recall of test set: 0.80%\n",
      "F1-score of train set: 1.00%, F1-score of test set: 0.80%\n",
      "\n",
      "Epoch: 36\n",
      "Accuracy of train set: 100.00%, Accuracy of test set: 80.00%\n",
      "Precision of train set: 1.00%, Precision of test set: 0.95%\n",
      "Recall of train set: 1.00%, Recall of test set: 0.80%\n",
      "F1-score of train set: 1.00%, F1-score of test set: 0.80%\n",
      "\n",
      "Epoch: 37\n",
      "Accuracy of train set: 100.00%, Accuracy of test set: 80.00%\n",
      "Precision of train set: 1.00%, Precision of test set: 0.95%\n",
      "Recall of train set: 1.00%, Recall of test set: 0.80%\n",
      "F1-score of train set: 1.00%, F1-score of test set: 0.80%\n",
      "\n",
      "Epoch: 38\n",
      "Accuracy of train set: 100.00%, Accuracy of test set: 80.00%\n",
      "Precision of train set: 1.00%, Precision of test set: 0.95%\n",
      "Recall of train set: 1.00%, Recall of test set: 0.80%\n",
      "F1-score of train set: 1.00%, F1-score of test set: 0.80%\n",
      "\n",
      "Epoch: 39\n",
      "Accuracy of train set: 100.00%, Accuracy of test set: 80.00%\n",
      "Precision of train set: 1.00%, Precision of test set: 0.95%\n",
      "Recall of train set: 1.00%, Recall of test set: 0.80%\n",
      "F1-score of train set: 1.00%, F1-score of test set: 0.80%\n",
      "\n",
      "Epoch: 40\n",
      "Accuracy of train set: 100.00%, Accuracy of test set: 80.00%\n",
      "Precision of train set: 1.00%, Precision of test set: 0.95%\n",
      "Recall of train set: 1.00%, Recall of test set: 0.80%\n",
      "F1-score of train set: 1.00%, F1-score of test set: 0.80%\n",
      "\n",
      "Epoch: 41\n",
      "Accuracy of train set: 100.00%, Accuracy of test set: 80.00%\n",
      "Precision of train set: 1.00%, Precision of test set: 0.95%\n",
      "Recall of train set: 1.00%, Recall of test set: 0.80%\n",
      "F1-score of train set: 1.00%, F1-score of test set: 0.80%\n",
      "\n",
      "Epoch: 42\n",
      "Accuracy of train set: 100.00%, Accuracy of test set: 80.00%\n",
      "Precision of train set: 1.00%, Precision of test set: 0.95%\n",
      "Recall of train set: 1.00%, Recall of test set: 0.80%\n",
      "F1-score of train set: 1.00%, F1-score of test set: 0.80%\n",
      "\n",
      "Epoch: 43\n",
      "Accuracy of train set: 100.00%, Accuracy of test set: 80.00%\n",
      "Precision of train set: 1.00%, Precision of test set: 0.95%\n",
      "Recall of train set: 1.00%, Recall of test set: 0.80%\n",
      "F1-score of train set: 1.00%, F1-score of test set: 0.80%\n",
      "\n",
      "Epoch: 44\n",
      "Accuracy of train set: 100.00%, Accuracy of test set: 80.00%\n",
      "Precision of train set: 1.00%, Precision of test set: 0.95%\n",
      "Recall of train set: 1.00%, Recall of test set: 0.80%\n",
      "F1-score of train set: 1.00%, F1-score of test set: 0.80%\n",
      "\n",
      "Epoch: 45\n",
      "Accuracy of train set: 100.00%, Accuracy of test set: 80.00%\n",
      "Precision of train set: 1.00%, Precision of test set: 0.95%\n",
      "Recall of train set: 1.00%, Recall of test set: 0.80%\n",
      "F1-score of train set: 1.00%, F1-score of test set: 0.80%\n",
      "\n",
      "Epoch: 46\n",
      "Accuracy of train set: 100.00%, Accuracy of test set: 80.00%\n",
      "Precision of train set: 1.00%, Precision of test set: 0.95%\n",
      "Recall of train set: 1.00%, Recall of test set: 0.80%\n",
      "F1-score of train set: 1.00%, F1-score of test set: 0.80%\n",
      "\n",
      "Epoch: 47\n",
      "Accuracy of train set: 100.00%, Accuracy of test set: 80.00%\n",
      "Precision of train set: 1.00%, Precision of test set: 0.95%\n",
      "Recall of train set: 1.00%, Recall of test set: 0.80%\n",
      "F1-score of train set: 1.00%, F1-score of test set: 0.80%\n",
      "\n",
      "Epoch: 48\n",
      "Accuracy of train set: 100.00%, Accuracy of test set: 80.00%\n",
      "Precision of train set: 1.00%, Precision of test set: 0.95%\n",
      "Recall of train set: 1.00%, Recall of test set: 0.80%\n",
      "F1-score of train set: 1.00%, F1-score of test set: 0.80%\n",
      "\n",
      "Epoch: 49\n",
      "Accuracy of train set: 100.00%, Accuracy of test set: 80.00%\n",
      "Precision of train set: 1.00%, Precision of test set: 0.95%\n",
      "Recall of train set: 1.00%, Recall of test set: 0.80%\n",
      "F1-score of train set: 1.00%, F1-score of test set: 0.80%\n",
      "\n",
      "Epoch: 50\n",
      "Accuracy of train set: 100.00%, Accuracy of test set: 80.00%\n",
      "Precision of train set: 1.00%, Precision of test set: 0.95%\n",
      "Recall of train set: 1.00%, Recall of test set: 0.80%\n",
      "F1-score of train set: 1.00%, F1-score of test set: 0.80%\n",
      "\n"
     ]
    }
   ],
   "source": [
    "start_time = time.time()\n",
    "\n",
    "for epoch in range(num_epochs):\n",
    "    epoch_start_time = time.time()\n",
    "\n",
    "    # Grid extension (except for CNN_LIN architecture)\n",
    "    if (architecture != Architecture.CNN_LIN):\n",
    "        if (epoch + 1) % grid_update_freq == 0 and curr_grid < max_grid and epoch > 0:\n",
    "            curr_grid += step\n",
    "            print(f\"Updating grid to {curr_grid} in epoch {epoch+1}\")\n",
    "            net.update_grid(curr_grid)\n",
    "            optimizer = torch.optim.Adam(net.parameters(), lr=learning_rate)\n",
    "\n",
    "    # Network in training mode\n",
    "    net.train()\n",
    "\n",
    "    # Training loop\n",
    "    for x_batch, y_batch in train_loader:\n",
    "        # Set to same device\n",
    "        x_batch, y_batch = x_batch.to(device), y_batch.to(device)\n",
    "\n",
    "        optimizer.zero_grad()\n",
    "        y_pred = net(x_batch)\n",
    "\n",
    "        loss = criterion(y_pred, y_batch)\n",
    "        train_losses.append(loss)\n",
    "\n",
    "        loss.backward()\n",
    "        optimizer.step()\n",
    "\n",
    "    # Compute model performance metrics\n",
    "    train_acc, train_prec, train_rec, train_f1 = evaluate_model(train_loader, net.to(device), device)\n",
    "    test_acc, test_prec, test_rec, test_f1 = evaluate_model(test_loader, net.to(device), device)\n",
    "\n",
    "    # Store values\n",
    "    train_accs.append(train_acc)\n",
    "    test_accs.append(test_acc)\n",
    "\n",
    "    train_precs.append(train_prec)\n",
    "    test_precs.append(test_prec)\n",
    "\n",
    "    train_recs.append(train_rec)\n",
    "    test_recs.append(test_rec)\n",
    "\n",
    "    train_f1s.append(train_f1)\n",
    "    test_f1s.append(test_f1)\n",
    "\n",
    "    # Print performance\n",
    "    print(f'Epoch: {epoch+1}')\n",
    "    print(f'Accuracy of train set: {train_acc:.2f}%, Accuracy of test set: {test_acc:.2f}%')\n",
    "    print(f'Precision of train set: {train_prec:.2f}%, Precision of test set: {test_prec:.2f}%')\n",
    "    print(f'Recall of train set: {train_rec:.2f}%, Recall of test set: {test_rec:.2f}%')\n",
    "    print(f'F1-score of train set: {train_f1:.2f}%, F1-score of test set: {test_f1:.2f}%')\n",
    "    print('')\n",
    "\n",
    "    # Store training time of epoch\n",
    "    epoch_end_time = time.time()\n",
    "    epoch_duration = epoch_end_time - epoch_start_time\n",
    "    epoch_times.append(epoch_duration)\n",
    "\n",
    "total_time = time.time() - start_time"
   ]
  },
  {
   "cell_type": "markdown",
   "metadata": {},
   "source": [
    "### Results & Visualizations:\n",
    "\n",
    "Training time:"
   ]
  },
  {
   "cell_type": "code",
   "execution_count": 32,
   "metadata": {},
   "outputs": [
    {
     "name": "stdout",
     "output_type": "stream",
     "text": [
      "Total training time: 9.77 seconds\n",
      "Average time per epoch: 0.20 seconds\n"
     ]
    }
   ],
   "source": [
    "avg_epoch_time = np.mean(epoch_times)\n",
    "\n",
    "print(f\"Total training time: {total_time:.2f} seconds\")\n",
    "print(f\"Average time per epoch: {avg_epoch_time:.2f} seconds\")"
   ]
  },
  {
   "cell_type": "markdown",
   "metadata": {},
   "source": [
    "Inference time:"
   ]
  },
  {
   "cell_type": "code",
   "execution_count": 33,
   "metadata": {},
   "outputs": [
    {
     "name": "stdout",
     "output_type": "stream",
     "text": [
      "Total Inference Time: 0.07763099670410156 seconds for 10 samples\n"
     ]
    }
   ],
   "source": [
    "net.eval()\n",
    "start_time = time.time()\n",
    "\n",
    "with torch.no_grad():\n",
    "    for inputs, _ in test_loader:\n",
    "        inputs = inputs.to(device)\n",
    "        outputs = net(inputs)\n",
    "\n",
    "end_time = time.time()\n",
    "inference_time = end_time - start_time\n",
    "print(f'Total Inference Time: {inference_time} seconds for {len(test_loader.dataset)} samples')"
   ]
  },
  {
   "cell_type": "markdown",
   "metadata": {},
   "source": [
    "Number of parameters:"
   ]
  },
  {
   "cell_type": "code",
   "execution_count": 34,
   "metadata": {},
   "outputs": [
    {
     "name": "stdout",
     "output_type": "stream",
     "text": [
      "Total parameters: 3082, Trainable parameters: 2704\n"
     ]
    }
   ],
   "source": [
    "total_params = sum(p.numel() for p in net.parameters())\n",
    "trainable_params = sum(p.numel() for p in net.parameters() if p.requires_grad)\n",
    "print(f'Total parameters: {total_params}, Trainable parameters: {trainable_params}')"
   ]
  },
  {
   "cell_type": "markdown",
   "metadata": {},
   "source": [
    "Plots:"
   ]
  },
  {
   "cell_type": "code",
   "execution_count": 38,
   "metadata": {},
   "outputs": [
    {
     "data": {
      "image/png": "[encoded data removed]",
      "text/plain": [
       "<Figure size 1000x1500 with 5 Axes>"
      ]
     },
     "metadata": {},
     "output_type": "display_data"
    }
   ],
   "source": [
    "# Assuming 'train_losses' is a list of tensors\n",
    "train_losses_detached = [loss.detach().cpu().numpy() for loss in train_losses]\n",
    "\n",
    "plt.figure(figsize=(10, 15))\n",
    "plt.subplot(3, 2, 1)\n",
    "plt.xlabel('Iterations')\n",
    "plt.ylabel('Loss')\n",
    "plt.plot(train_losses_detached)  # Use the detached list of numpy arrays\n",
    "plt.grid()\n",
    "\n",
    "plt.subplot(3, 2, 3)\n",
    "plt.xlabel('Epochs')\n",
    "plt.ylabel('Accuracy (%)')\n",
    "plt.plot(train_accs, label = 'train')\n",
    "plt.plot(test_accs, label = 'test')\n",
    "plt.legend()\n",
    "plt.grid()\n",
    "plt.subplot(3, 2, 4)\n",
    "plt.xlabel('Epochs')\n",
    "plt.ylabel('Precision (%)')\n",
    "plt.plot(train_precs, label = 'train')\n",
    "plt.plot(test_precs, label = 'test')\n",
    "plt.legend()\n",
    "plt.grid()\n",
    "\n",
    "plt.subplot(3, 2, 5)\n",
    "plt.xlabel('Epochs')\n",
    "plt.ylabel('Recall (%)')\n",
    "plt.plot(train_recs, label = 'train')\n",
    "plt.plot(test_recs, label = 'test')\n",
    "plt.legend()\n",
    "plt.grid()\n",
    "plt.subplot(3, 2, 6)\n",
    "plt.xlabel('Epochs')\n",
    "plt.ylabel('F1-score (%)')\n",
    "plt.plot(train_f1s, label = 'train')\n",
    "plt.plot(test_f1s, label = 'test')\n",
    "plt.legend()\n",
    "plt.grid()"
   ]
  }
 ],
 "metadata": {
  "kernelspec": {
   "display_name": "Python 3",
   "language": "python",
   "name": "python3"
  },
  "language_info": {
   "codemirror_mode": {
    "name": "ipython",
    "version": 3
   },
   "file_extension": ".py",
   "mimetype": "text/x-python",
   "name": "python",
   "nbconvert_exporter": "python",
   "pygments_lexer": "ipython3",
   "version": "3.11.9"
  }
 },
 "nbformat": 4,
 "nbformat_minor": 2
}
