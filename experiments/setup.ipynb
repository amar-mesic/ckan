{
 "cells": [
  {
   "cell_type": "code",
   "execution_count": 1,
   "metadata": {},
   "outputs": [],
   "source": [
    "import sys\n",
    "sys.path.append(\"..\")\n",
    "\n",
    "import time\n",
    "from enum import Enum\n",
    "import torch\n",
    "from utils import compute_min_max\n",
    "import matplotlib.pyplot as plt\n",
    "\n",
    "# Import dataset loaders\n",
    "from dataset_loaders.MNIST import get_MNIST\n",
    "from dataset_loaders.FASHION_MNIST import get_FASHION_MNIST\n",
    "from dataset_loaders.CIFAR import get_CIFAR\n",
    "\n",
    "# Import architectures\n",
    "from architectures.CKAN_KAN import *\n",
    "from architectures.CKAN_LIN import *\n",
    "from architectures.CNN_KAN import *\n",
    "from architectures.CNN_LIN import *"
   ]
  },
  {
   "cell_type": "markdown",
   "metadata": {},
   "source": [
    "# Use this file to conduct our experiments\n",
    "\n",
    "### First check if we can run on GPU:"
   ]
  },
  {
   "cell_type": "code",
   "execution_count": 10,
   "metadata": {},
   "outputs": [
    {
     "name": "stdout",
     "output_type": "stream",
     "text": [
      "cuda:0\n"
     ]
    }
   ],
   "source": [
    "device = torch.device('cuda:0') if torch.cuda.is_available() else torch.device('cpu')\n",
    "print(device)"
   ]
  },
  {
   "cell_type": "markdown",
   "metadata": {},
   "source": [
    "### Select the dataset:"
   ]
  },
  {
   "cell_type": "code",
   "execution_count": 3,
   "metadata": {},
   "outputs": [],
   "source": [
    "class Dataset(Enum):\n",
    "    MNIST = 1\n",
    "    FASH_MNIST = 2\n",
    "    CIFAR = 3\n",
    "    TINY_IMAGENET = 4\n",
    "\n",
    "    def get_dataset(self, fraction, batch_size):\n",
    "        if self == Dataset.MNIST:\n",
    "            return get_MNIST(fraction, batch_size)\n",
    "        elif self == Dataset.FASH_MNIST:\n",
    "            return get_FASHION_MNIST(fraction, batch_size)\n",
    "        elif self == Dataset.CIFAR:\n",
    "            return get_CIFAR(fraction, batch_size)\n",
    "        elif self == Dataset.TINY_IMAGENET:\n",
    "            return \"Not implemented\"\n",
    "        else:\n",
    "            return \"Unknown option\""
   ]
  },
  {
   "cell_type": "code",
   "execution_count": 4,
   "metadata": {},
   "outputs": [],
   "source": [
    "# Change enum to pick different dataset\n",
    "dataset = Dataset.MNIST\n",
    "\n",
    "# Set the required variables\n",
    "fraction = 0.001\n",
    "batch_size = 32\n",
    "\n",
    "train_val_dataset, test_dataset, train_loader, test_loader = dataset.get_dataset(fraction, batch_size)"
   ]
  },
  {
   "cell_type": "markdown",
   "metadata": {},
   "source": [
    "### Select which architecture we want to use:"
   ]
  },
  {
   "cell_type": "code",
   "execution_count": 5,
   "metadata": {},
   "outputs": [],
   "source": [
    "class Architecture(Enum):\n",
    "    CKAN_KAN = 1\n",
    "    CKAN_LIN = 2\n",
    "    CNN_KAN  = 3 \n",
    "    CNN_LIN  = 4\n",
    "\n",
    "    def get_architecture(self, in_channels, hidden_channels, out_features, min_grid, degree, device):\n",
    "        if self == Architecture.CKAN_KAN:\n",
    "            return CKANKANNet(in_channels, hidden_channels, out_features, \n",
    "                              grid=min_grid, degree=degree, device=device).to(device)\n",
    "        elif self == Architecture.CKAN_LIN:\n",
    "            return CKANLINNet(in_channels, hidden_channels, out_features, \n",
    "                              grid=min_grid, degree=degree, device=device).to(device)\n",
    "        elif self == Architecture.CNN_KAN:\n",
    "            return CNNKANNet(in_channels, hidden_channels, out_features, \n",
    "                              grid=min_grid, degree=degree, device=device).to(device)\n",
    "        elif self == Architecture.CNN_LIN:\n",
    "            return CNNLINNet(in_channels, hidden_channels, out_features, device=device).to(device)\n",
    "        else:\n",
    "            return \"Unknown option\""
   ]
  },
  {
   "cell_type": "code",
   "execution_count": 6,
   "metadata": {},
   "outputs": [],
   "source": [
    "# Change enum to pick different architecture\n",
    "architecture = Architecture.CKAN_KAN\n",
    "\n",
    "degree = 2\n",
    "\n",
    "# Architecture parameters\n",
    "in_channels = 1\n",
    "hidden_channels = [2, 3]\n",
    "out_features = 10\n",
    "\n",
    "# Training parameters\n",
    "learning_rate = 0.01\n",
    "num_epochs = 50\n",
    "\n",
    "# Grid parameters\n",
    "min_grid = 1\n",
    "max_grid, curr_grid = 13, min_grid\n",
    "grid_range = compute_min_max(train_val_dataset)\n",
    "step = 4\n",
    "grid_update_freq = int(num_epochs / ((max_grid - min_grid) / step + 1e-5))\n",
    "\n",
    "net = architecture.get_architecture(in_channels, hidden_channels, out_features, min_grid, degree, device)"
   ]
  },
  {
   "cell_type": "code",
   "execution_count": 7,
   "metadata": {},
   "outputs": [],
   "source": [
    "# Optimizer and loss function\n",
    "optimizer = torch.optim.Adam(net.parameters(), lr=learning_rate)\n",
    "criterion = nn.CrossEntropyLoss()"
   ]
  },
  {
   "cell_type": "markdown",
   "metadata": {},
   "source": [
    "### Define metrics:\n",
    "\n",
    "TODO: add more metrics"
   ]
  },
  {
   "cell_type": "code",
   "execution_count": 8,
   "metadata": {},
   "outputs": [],
   "source": [
    "def evaluate_accuracy(data_loader, net, device=torch.device('cuda:0')):\n",
    "    \"\"\"Evaluate accuracy of a model on the given data set.\"\"\"\n",
    "    net.eval()  #make sure network is in evaluation mode\n",
    "\n",
    "    #init\n",
    "    acc_sum = torch.tensor([0], dtype=torch.float32, device=device)\n",
    "    n = 0\n",
    "\n",
    "    for X, y in data_loader:\n",
    "        # Copy the data to device.\n",
    "        X, y = X.to(device), y.to(device)\n",
    "        with torch.no_grad():\n",
    "            y = y.long()\n",
    "            acc_sum += torch.sum((torch.argmax(net(X), dim=1) == y))\n",
    "            n += y.shape[0] #increases with the number of samples in the batch\n",
    "    return acc_sum.item()/n"
   ]
  },
  {
   "cell_type": "markdown",
   "metadata": {},
   "source": [
    "### Run the training loop:"
   ]
  },
  {
   "cell_type": "code",
   "execution_count": 9,
   "metadata": {},
   "outputs": [
    {
     "name": "stdout",
     "output_type": "stream",
     "text": [
      "Epoch: 1\n",
      "Accuracy of train set: 13.3%\n",
      "Accuracy of test set: 10.0%\n",
      "\n",
      "Epoch: 2\n",
      "Accuracy of train set: 21.7%\n",
      "Accuracy of test set: 10.0%\n",
      "\n",
      "Epoch: 3\n",
      "Accuracy of train set: 28.3%\n",
      "Accuracy of test set: 20.0%\n",
      "\n",
      "Epoch: 4\n",
      "Accuracy of train set: 36.7%\n",
      "Accuracy of test set: 10.0%\n",
      "\n",
      "Epoch: 5\n",
      "Accuracy of train set: 45.0%\n",
      "Accuracy of test set: 30.0%\n",
      "\n",
      "Epoch: 6\n",
      "Accuracy of train set: 53.3%\n",
      "Accuracy of test set: 30.0%\n",
      "\n",
      "Epoch: 7\n",
      "Accuracy of train set: 58.3%\n",
      "Accuracy of test set: 50.0%\n",
      "\n",
      "Epoch: 8\n",
      "Accuracy of train set: 75.0%\n",
      "Accuracy of test set: 50.0%\n",
      "\n",
      "Epoch: 9\n",
      "Accuracy of train set: 80.0%\n",
      "Accuracy of test set: 60.0%\n",
      "\n",
      "Epoch: 10\n",
      "Accuracy of train set: 78.3%\n",
      "Accuracy of test set: 60.0%\n",
      "\n",
      "Epoch: 11\n",
      "Accuracy of train set: 83.3%\n",
      "Accuracy of test set: 70.0%\n",
      "\n",
      "Epoch: 12\n",
      "Accuracy of train set: 88.3%\n",
      "Accuracy of test set: 70.0%\n",
      "\n",
      "Epoch: 13\n",
      "Accuracy of train set: 91.7%\n",
      "Accuracy of test set: 70.0%\n",
      "\n",
      "Epoch: 14\n",
      "Accuracy of train set: 95.0%\n",
      "Accuracy of test set: 70.0%\n",
      "\n",
      "Epoch: 15\n",
      "Accuracy of train set: 96.7%\n",
      "Accuracy of test set: 70.0%\n",
      "\n",
      "Updating grid to 5 in epoch 16\n"
     ]
    },
    {
     "ename": "_LinAlgError",
     "evalue": "torch.linalg.lstsq: (Batch element 0): The least squares solution could not be computed because the input matrix does not have full rank (error code: 2).",
     "output_type": "error",
     "traceback": [
      "\u001b[1;31m---------------------------------------------------------------------------\u001b[0m",
      "\u001b[1;31m_LinAlgError\u001b[0m                              Traceback (most recent call last)",
      "Cell \u001b[1;32mIn[9], line 17\u001b[0m\n\u001b[0;32m     15\u001b[0m         curr_grid \u001b[38;5;241m+\u001b[39m\u001b[38;5;241m=\u001b[39m step\n\u001b[0;32m     16\u001b[0m         \u001b[38;5;28mprint\u001b[39m(\u001b[38;5;124mf\u001b[39m\u001b[38;5;124m\"\u001b[39m\u001b[38;5;124mUpdating grid to \u001b[39m\u001b[38;5;132;01m{\u001b[39;00mcurr_grid\u001b[38;5;132;01m}\u001b[39;00m\u001b[38;5;124m in epoch \u001b[39m\u001b[38;5;132;01m{\u001b[39;00mepoch\u001b[38;5;241m+\u001b[39m\u001b[38;5;241m1\u001b[39m\u001b[38;5;132;01m}\u001b[39;00m\u001b[38;5;124m\"\u001b[39m)\n\u001b[1;32m---> 17\u001b[0m         \u001b[43mnet\u001b[49m\u001b[38;5;241;43m.\u001b[39;49m\u001b[43mupdate_grid\u001b[49m\u001b[43m(\u001b[49m\u001b[43mcurr_grid\u001b[49m\u001b[43m)\u001b[49m\n\u001b[0;32m     18\u001b[0m         optimizer \u001b[38;5;241m=\u001b[39m torch\u001b[38;5;241m.\u001b[39moptim\u001b[38;5;241m.\u001b[39mAdam(net\u001b[38;5;241m.\u001b[39mparameters(), lr\u001b[38;5;241m=\u001b[39mlearning_rate)\n\u001b[0;32m     20\u001b[0m \u001b[38;5;66;03m# Network in training mode\u001b[39;00m\n",
      "File \u001b[1;32mc:\\Users\\reino\\OneDrive\\Documents\\TU Delft\\Q4\\CS4245 Seminar Computer Vision\\ckan\\experiments\\architectures\\CKAN_KAN.py:41\u001b[0m, in \u001b[0;36mCKANKANNet.update_grid\u001b[1;34m(self, grid)\u001b[0m\n\u001b[0;32m     39\u001b[0m \u001b[38;5;28mself\u001b[39m\u001b[38;5;241m.\u001b[39mconv1\u001b[38;5;241m.\u001b[39mupdate_grid(grid)\n\u001b[0;32m     40\u001b[0m \u001b[38;5;28mself\u001b[39m\u001b[38;5;241m.\u001b[39mconv2\u001b[38;5;241m.\u001b[39mupdate_grid(grid)\n\u001b[1;32m---> 41\u001b[0m \u001b[38;5;28;43mself\u001b[39;49m\u001b[38;5;241;43m.\u001b[39;49m\u001b[43mlinear1\u001b[49m\u001b[38;5;241;43m.\u001b[39;49m\u001b[43mupdate_grid\u001b[49m\u001b[43m(\u001b[49m\u001b[43mgrid\u001b[49m\u001b[43m)\u001b[49m\n",
      "File \u001b[1;32mc:\\Users\\reino\\OneDrive\\Documents\\TU Delft\\Q4\\CS4245 Seminar Computer Vision\\ckan\\experiments\\..\\KAN\\KANLayer.py:87\u001b[0m, in \u001b[0;36mMyKANLayer.update_grid\u001b[1;34m(self, new_grid)\u001b[0m\n\u001b[0;32m     84\u001b[0m \u001b[38;5;28mself\u001b[39m\u001b[38;5;241m.\u001b[39mknots\u001b[38;5;241m.\u001b[39mdata \u001b[38;5;241m=\u001b[39m torch\u001b[38;5;241m.\u001b[39mlinspace(\u001b[38;5;28mself\u001b[39m\u001b[38;5;241m.\u001b[39mgrid_range[\u001b[38;5;241m0\u001b[39m], \u001b[38;5;28mself\u001b[39m\u001b[38;5;241m.\u001b[39mgrid_range[\u001b[38;5;241m1\u001b[39m], steps\u001b[38;5;241m=\u001b[39mnew_grid \u001b[38;5;241m+\u001b[39m \u001b[38;5;241m1\u001b[39m, device\u001b[38;5;241m=\u001b[39m\u001b[38;5;28mself\u001b[39m\u001b[38;5;241m.\u001b[39mdevice)\u001b[38;5;241m.\u001b[39mrepeat(\u001b[38;5;28mself\u001b[39m\u001b[38;5;241m.\u001b[39msize, \u001b[38;5;241m1\u001b[39m)\n\u001b[0;32m     86\u001b[0m \u001b[38;5;66;03m# self.coeff = nn.Parameter(0.1 * torch.randn(self.size, new_grid + self.degree if self.approx_type == \"spline\" else 1 + self.degree, device=self.coeff.device), requires_grad=True)\u001b[39;00m\n\u001b[1;32m---> 87\u001b[0m \u001b[38;5;28mself\u001b[39m\u001b[38;5;241m.\u001b[39mcoeff\u001b[38;5;241m.\u001b[39mdata \u001b[38;5;241m=\u001b[39m \u001b[43mspline\u001b[49m\u001b[38;5;241;43m.\u001b[39;49m\u001b[43mcurve2coef\u001b[49m\u001b[43m(\u001b[49m\u001b[43mx\u001b[49m\u001b[43m,\u001b[49m\u001b[43m \u001b[49m\u001b[43my\u001b[49m\u001b[43m,\u001b[49m\u001b[43m \u001b[49m\u001b[38;5;28;43mself\u001b[39;49m\u001b[38;5;241;43m.\u001b[39;49m\u001b[43mknots\u001b[49m\u001b[43m,\u001b[49m\u001b[43m \u001b[49m\u001b[38;5;28;43mself\u001b[39;49m\u001b[38;5;241;43m.\u001b[39;49m\u001b[43mdegree\u001b[49m\u001b[43m)\u001b[49m\n\u001b[0;32m     89\u001b[0m test \u001b[38;5;241m=\u001b[39m spline\u001b[38;5;241m.\u001b[39mcoef2curve(x, \u001b[38;5;28mself\u001b[39m\u001b[38;5;241m.\u001b[39mknots, \u001b[38;5;28mself\u001b[39m\u001b[38;5;241m.\u001b[39mcoeff, \u001b[38;5;28mself\u001b[39m\u001b[38;5;241m.\u001b[39mdegree, device\u001b[38;5;241m=\u001b[39m\u001b[38;5;28mself\u001b[39m\u001b[38;5;241m.\u001b[39mdevice)\n",
      "File \u001b[1;32mc:\\Users\\reino\\OneDrive\\Documents\\TU Delft\\Q4\\CS4245 Seminar Computer Vision\\ckan\\experiments\\..\\spline.py:141\u001b[0m, in \u001b[0;36mcurve2coef\u001b[1;34m(x_eval, y_eval, grid, k, device)\u001b[0m\n\u001b[0;32m    139\u001b[0m mat \u001b[38;5;241m=\u001b[39m B_batch(x_eval, grid, k, device\u001b[38;5;241m=\u001b[39mdevice)\u001b[38;5;241m.\u001b[39mpermute(\u001b[38;5;241m0\u001b[39m, \u001b[38;5;241m2\u001b[39m, \u001b[38;5;241m1\u001b[39m)\n\u001b[0;32m    140\u001b[0m \u001b[38;5;66;03m# coef = torch.linalg.lstsq(mat, y_eval.unsqueeze(dim=2)).solution[:, :, 0]\u001b[39;00m\n\u001b[1;32m--> 141\u001b[0m coef \u001b[38;5;241m=\u001b[39m \u001b[43mtorch\u001b[49m\u001b[38;5;241;43m.\u001b[39;49m\u001b[43mlinalg\u001b[49m\u001b[38;5;241;43m.\u001b[39;49m\u001b[43mlstsq\u001b[49m\u001b[43m(\u001b[49m\u001b[43mmat\u001b[49m\u001b[38;5;241;43m.\u001b[39;49m\u001b[43mto\u001b[49m\u001b[43m(\u001b[49m\u001b[43mdevice\u001b[49m\u001b[43m)\u001b[49m\u001b[43m,\u001b[49m\u001b[43m \u001b[49m\u001b[43my_eval\u001b[49m\u001b[38;5;241;43m.\u001b[39;49m\u001b[43munsqueeze\u001b[49m\u001b[43m(\u001b[49m\u001b[43mdim\u001b[49m\u001b[38;5;241;43m=\u001b[39;49m\u001b[38;5;241;43m2\u001b[39;49m\u001b[43m)\u001b[49m\u001b[38;5;241;43m.\u001b[39;49m\u001b[43mto\u001b[49m\u001b[43m(\u001b[49m\u001b[43mdevice\u001b[49m\u001b[43m)\u001b[49m\u001b[43m,\u001b[49m\n\u001b[0;32m    142\u001b[0m \u001b[43m                          \u001b[49m\u001b[43mdriver\u001b[49m\u001b[38;5;241;43m=\u001b[39;49m\u001b[38;5;124;43m'\u001b[39;49m\u001b[38;5;124;43mgelsy\u001b[39;49m\u001b[38;5;124;43m'\u001b[39;49m\u001b[43m \u001b[49m\u001b[38;5;28;43;01mif\u001b[39;49;00m\u001b[43m \u001b[49m\u001b[43mdevice\u001b[49m\u001b[43m \u001b[49m\u001b[38;5;241;43m==\u001b[39;49m\u001b[43m \u001b[49m\u001b[38;5;124;43m'\u001b[39;49m\u001b[38;5;124;43mcpu\u001b[39;49m\u001b[38;5;124;43m'\u001b[39;49m\u001b[43m \u001b[49m\u001b[38;5;28;43;01melse\u001b[39;49;00m\u001b[43m \u001b[49m\u001b[38;5;124;43m'\u001b[39;49m\u001b[38;5;124;43mgels\u001b[39;49m\u001b[38;5;124;43m'\u001b[39;49m\u001b[43m)\u001b[49m\u001b[38;5;241m.\u001b[39msolution[:, :, \u001b[38;5;241m0\u001b[39m]\n\u001b[0;32m    143\u001b[0m \u001b[38;5;28;01mreturn\u001b[39;00m coef\u001b[38;5;241m.\u001b[39mto(device)\n",
      "\u001b[1;31m_LinAlgError\u001b[0m: torch.linalg.lstsq: (Batch element 0): The least squares solution could not be computed because the input matrix does not have full rank (error code: 2)."
     ]
    }
   ],
   "source": [
    "# Define list to store losses and performances of each iteration\n",
    "train_losses = []\n",
    "train_accs = []\n",
    "test_accs = []\n",
    "\n",
    "epoch_times = []\n",
    "start_time = time.time()\n",
    "\n",
    "for epoch in range(num_epochs):\n",
    "    epoch_start_time = time.time()\n",
    "\n",
    "    # Grid extension (except for CNN_LIN architecture)\n",
    "    if (architecture != Architecture.CNN_LIN):\n",
    "        if (epoch + 1) % grid_update_freq == 0 and curr_grid < max_grid and epoch > 0:\n",
    "            curr_grid += step\n",
    "            print(f\"Updating grid to {curr_grid} in epoch {epoch+1}\")\n",
    "            net.update_grid(curr_grid)\n",
    "            optimizer = torch.optim.Adam(net.parameters(), lr=learning_rate)\n",
    "\n",
    "    # Network in training mode\n",
    "    net.train()\n",
    "\n",
    "    # Training loop\n",
    "    for x_batch, y_batch in train_loader:\n",
    "        # Set to same device\n",
    "        x_batch, y_batch = x_batch.to(device), y_batch.to(device)\n",
    "\n",
    "        optimizer.zero_grad()\n",
    "        y_pred = net(x_batch)\n",
    "\n",
    "        loss = criterion(y_pred, y_batch)\n",
    "        train_losses.append(loss)\n",
    "\n",
    "        loss.backward()\n",
    "        optimizer.step()\n",
    "\n",
    "    # Compute train and test error\n",
    "    train_acc = 100 * evaluate_accuracy(train_loader, net.to(device), device)\n",
    "    test_acc = 100 * evaluate_accuracy(test_loader, net.to(device), device)\n",
    "\n",
    "    # Development of performance\n",
    "    train_accs.append(train_acc)\n",
    "    test_accs.append(test_acc)\n",
    "\n",
    "    # Print performance\n",
    "    print(f'Epoch: {epoch+1}')\n",
    "    print('Accuracy of train set: {:.1f}%'.format(train_acc))\n",
    "    print('Accuracy of test set: {:.1f}%'.format(test_acc))\n",
    "    print('')\n",
    "\n",
    "    epoch_end_time = time.time()\n",
    "    epoch_duration = epoch_end_time - epoch_start_time\n",
    "    epoch_times.append(epoch_duration)\n",
    "\n",
    "\n",
    "total_time = time.time() - start_time\n",
    "avg_epoch_time = np.mean(epoch_times)\n",
    "\n",
    "print(f\"Total training time: {total_time:.2f} seconds\")\n",
    "print(f\"Average time per epoch: {avg_epoch_time:.2f} seconds\")"
   ]
  },
  {
   "cell_type": "markdown",
   "metadata": {},
   "source": [
    "### Results & Visualizations:\n",
    "\n",
    "TODO: add more visualizations"
   ]
  },
  {
   "cell_type": "code",
   "execution_count": null,
   "metadata": {},
   "outputs": [
    {
     "data": {
      "image/png": "[encoded data removed]",
      "text/plain": [
       "<Figure size 1000x500 with 2 Axes>"
      ]
     },
     "metadata": {},
     "output_type": "display_data"
    }
   ],
   "source": [
    "# Assuming 'train_losses' is a list of tensors\n",
    "train_losses_detached = [loss.detach().cpu().numpy() for loss in train_losses]\n",
    "\n",
    "plt.figure(figsize=(10, 5))\n",
    "plt.subplot(1, 2, 1)\n",
    "plt.xlabel('Iterations')\n",
    "plt.ylabel('Loss')\n",
    "plt.plot(train_losses_detached)  # Use the detached list of numpy arrays\n",
    "plt.grid()\n",
    "\n",
    "# Assuming you have additional plots or other code to follow\n",
    "plt.subplot(1, 2, 2)\n",
    "plt.xlabel('Epochs')\n",
    "plt.ylabel('Accuracy (%)')\n",
    "plt.plot(train_accs, label = 'train')\n",
    "plt.plot(test_accs, label = 'test')\n",
    "plt.legend()\n",
    "plt.grid()"
   ]
  }
 ],
 "metadata": {
  "kernelspec": {
   "display_name": "Python 3",
   "language": "python",
   "name": "python3"
  },
  "language_info": {
   "codemirror_mode": {
    "name": "ipython",
    "version": 3
   },
   "file_extension": ".py",
   "mimetype": "text/x-python",
   "name": "python",
   "nbconvert_exporter": "python",
   "pygments_lexer": "ipython3",
   "version": "3.11.9"
  }
 },
 "nbformat": 4,
 "nbformat_minor": 2
}
